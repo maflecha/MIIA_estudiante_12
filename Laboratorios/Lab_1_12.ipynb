{
 "cells": [
  {
   "cell_type": "markdown",
   "metadata": {},
   "source": [
    "<img src=\"Archivos/miia.jpg\" width=800x>\n",
    "\n",
    "# Laboratorio 1\n",
    "\n",
    "## Desarrollo de una herramienta analítica usando solo Python\n",
    "\n",
    "Este laboratorio busca evaluar las habilidades relacionadas con la primera parte del curso, correspondiente a las primeras tres semanas. Este enunciado estará disponible desde la semana 2 y deberá entregarse al final de la semana 4 en el enlace correspondiente. Su desarrollo corresponde al 30% de la calificación total del curso.\n",
    "\n",
    "Esta actividad responde directamente al segundo objetivo del curso:\n",
    "* Implementar una herramienta analítica que permita responder una pregunta de negocio para un problema sencillo de analítica de datos, utilizando únicamente algorítmica básica en Python.\n",
    "\n",
    "Al desarrollar este laboratorio pondrás a prueba tus habilidades para: \n",
    "1. Leer datos desde archivos.\n",
    "2. Almacenar datos en  estructuras de Python.\n",
    "3. Crear y llamar funciones correctamente.\n",
    "4. Implementar condicionales diferenciando *if*, *elif* y *else*\n",
    "5. Implementar ciclos diferenciando el propósito de *for* y *while*\n",
    "6. Importar paquetes y utilizar sus funciones.\n",
    "\n",
    "**NOTAS:**\n",
    "- Te recomendamos leer por completo el enunciado del laboratorio antes de comenzar, de forma que tengas claro el propósito completo de la actividad, y puedas desarrollar tu solución apuntando a él desde el comienzo.\n"
   ]
  },
  {
   "cell_type": "markdown",
   "metadata": {},
   "source": [
    "## Contexto: exploración del potencial para asignar becas Uniandes\n",
    "La Universidad de los Andes se ha caracterizado por su compromiso con la generación de impacto en la sociedad a través de diferentes programas de becas. Programas como Quiero Estudiar, o Ser Pilo Paga, entre otros, han sido revolucionarios, al permitir que estudiantes de bajos recursos puedan acceder a una de las universidades privadas más importantes del país.\n",
    "\n",
    "Actualmente, la Universidad quiere evaluar el potencial impacto que tendrían algunos programas de *acción afirmativa* para asignación de becas, con base en información demográfica que ha obtenido a través de encuestas. Se cuenta con información respecto a la edad, género, estado civil, estrato socio-económico, región de proveniencia, desempeño académico y nivel de escolaridad de las personas que han respondido encuestas. Los encargados de diseñar el programa saben que utilizar criterios basados en este tipo de variables es un tema sensible, pero es necesario si se quieren focalizar las oportunidades en poblaciones menos representadas.\n",
    "\n",
    "El objetivo de este laboratorio es crear una herramienta computacional que permita a un tomador de decisiones explorar qué efecto podría tener el uso de diferentes reglas para seleccionar la población que sería beneficiaria de las becas. Puntualmente, se espera que, dadas unas reglas de selección (ej.: pertenecer a cierta región, rango de edad, etc.), la herramienta ofrezca información sobre la población potencialmente beneficiada, de forma que exista un sustento al momento de definir las reglas de selección."
   ]
  },
  {
   "cell_type": "markdown",
   "metadata": {},
   "source": [
    "## 1. Obtención e inspección de archivos\n",
    "\n",
    "Los datos de encuestas fueron obtenidos como parte de un trabajo de campo, y por limitaciones tecnológicas, solo se cuenta con la información en archivos de texto plano. Cada archivo corresponde a una de las variables antes mencionadas y se puede garantizar que todos relacionan a las personas encuestadas en el mismo orden (i.e., la primera línea de todos los archivos corresponde a datos de la primera persona encuestada, la segunda línea a la segunda persona, etc.).\n",
    "\n",
    "Los archivos con los que se cuenta son:\n",
    "* *edades.txt*: un archivo ordenado con las edades de cada persona de la población encuestada \n",
    "* *género.txt*: un archivo ordenado con el género de cada persona de la población encuestada \n",
    "* *estado_civil.txt*: un archivo ordenado con el estado civil de cada persona de la población encuestada \n",
    "* *escolaridad.txt*: un archivo ordenado con el nivel de escolaridad de cada persona de la población encuestada \n",
    "* *estrato.txt*: un archivo ordenado con el estrato socio-económico de cada persona de la población encuestada\n",
    "* *region.txt*: un archivo ordenado con la región de proveniencia de cada persona de la población encuestada"
   ]
  },
  {
   "cell_type": "markdown",
   "metadata": {},
   "source": [
    "**Misión 1**\n",
    "\n",
    "Poner en variables de Python la información que está en los archivos listados arriba.\n",
    "\n",
    "* *Versión base*: escribe línea a línea el código necesario para poner en variables de Python la información de cada uno de los archivos.\n",
    "\n",
    "* *Milla extra*: escribe una función que sea capaz de hacer lo anterior para un archivo y úsala en un ciclo para automatizar la lectura de los diferentes archivos."
   ]
  },
  {
   "cell_type": "code",
   "execution_count": 1,
   "metadata": {},
   "outputs": [],
   "source": [
    "# código\n",
    "import os\n",
    "\n",
    "def datos_completos (path_file):\n",
    "    \n",
    "    dict_complete={}    \n",
    "    for file in path_file:\n",
    "        \n",
    "        if file.endswith(\".txt\"):\n",
    "            path=\".\\\\Archivos\\\\\" + file\n",
    "\n",
    "            with open(path, 'r', encoding=\"utf-8\") as column:\n",
    "                key=file[:-4]\n",
    "                datos=column.read().splitlines()\n",
    "                \n",
    "               \n",
    "                \n",
    "                try:\n",
    "                    float(datos[0])\n",
    "                    dat_int=list(map(float, datos))\n",
    "\n",
    "        \n",
    "                    dict_complete[key]=dat_int\n",
    "                    \n",
    "                except:\n",
    "                    dict_complete[key]=datos\n",
    "        else:\n",
    "            pass\n",
    "\n",
    "    key='id'  \n",
    "\n",
    "    lista_id=[i for i in range (1, len(dict_complete[\"edad\"])+1)]\n",
    "\n",
    "    dict_complete[key]=lista_id\n",
    "        \n",
    "    return dict_complete\n",
    "            \n",
    "\n",
    "path_file=os.listdir(\".\\Archivos\")\n",
    "datos=datos_completos (path_file)"
   ]
  },
  {
   "cell_type": "code",
   "execution_count": 37,
   "metadata": {},
   "outputs": [
    {
     "name": "stdout",
     "output_type": "stream",
     "text": [
      "{'edad': [36.0, 66.0, 24.0, 55.0, 26.0, 69.0, 79.0, 54.0, 51.0, 80.0, 30.0, 64.0, 40.0, 53.0, 47.0, 24.0, 76.0, 65.0, 38.0, 37.0, 71.0, 51.0, 51.0, 33.0, 24.0, 71.0, 78.0, 75.0, 38.0, 49.0, 49.0, 53.0, 62.0, 26.0, 67.0, 68.0, 70.0, 57.0, 47.0, 30.0, 44.0, 22.0, 30.0, 64.0, 21.0, 54.0, 35.0, 52.0, 27.0, 20.0, 59.0, 40.0, 23.0, 58.0, 71.0, 77.0, 70.0, 31.0, 19.0, 31.0, 75.0, 63.0, 79.0, 67.0, 46.0, 79.0, 30.0, 19.0, 64.0, 52.0, 79.0, 35.0, 74.0, 18.0, 22.0, 58.0, 77.0, 22.0, 73.0, 59.0, 18.0, 46.0, 35.0, 38.0, 80.0, 65.0, 41.0, 46.0, 36.0, 46.0, 56.0, 37.0, 67.0, 20.0, 46.0, 62.0, 70.0, 31.0, 20.0, 64.0, 78.0, 66.0, 45.0, 43.0, 70.0, 43.0, 24.0, 58.0, 62.0, 60.0, 80.0, 73.0, 73.0, 57.0, 42.0, 51.0, 52.0, 58.0, 39.0, 43.0, 66.0, 32.0, 49.0, 44.0, 57.0, 39.0, 21.0, 27.0, 31.0, 28.0, 44.0, 80.0, 71.0, 33.0, 22.0, 78.0, 60.0, 70.0, 62.0, 45.0, 78.0, 78.0, 42.0, 21.0, 44.0, 38.0, 19.0, 31.0, 58.0, 69.0, 34.0, 69.0, 80.0, 20.0, 59.0, 29.0, 33.0, 29.0, 44.0, 55.0, 47.0, 26.0, 47.0, 20.0, 43.0, 27.0, 29.0, 21.0, 70.0, 69.0, 45.0, 69.0, 34.0, 28.0, 50.0, 79.0, 29.0, 53.0, 36.0, 39.0, 57.0, 62.0, 42.0, 51.0, 57.0, 67.0, 52.0, 58.0, 36.0, 27.0, 70.0, 21.0, 55.0, 50.0, 46.0, 75.0, 54.0, 80.0, 61.0, 78.0, 21.0, 76.0, 61.0, 67.0, 66.0, 27.0, 74.0, 21.0, 21.0, 55.0, 45.0, 21.0, 22.0, 30.0, 64.0, 78.0, 52.0, 61.0, 19.0, 53.0, 43.0, 66.0, 34.0, 43.0, 70.0, 27.0, 53.0, 40.0, 32.0, 33.0, 63.0, 69.0, 22.0, 58.0, 23.0, 44.0, 65.0, 20.0, 39.0, 54.0, 24.0, 54.0, 50.0, 59.0, 20.0, 19.0, 19.0, 36.0, 48.0, 59.0, 25.0, 74.0, 36.0, 57.0, 66.0, 60.0, 56.0, 48.0, 68.0, 60.0, 50.0, 30.0, 36.0, 78.0, 75.0, 36.0, 80.0, 48.0, 74.0, 47.0, 40.0, 71.0, 57.0, 46.0, 77.0, 29.0, 77.0, 65.0, 35.0, 29.0, 36.0, 53.0, 22.0, 28.0, 61.0, 40.0, 57.0, 20.0, 43.0, 54.0, 54.0, 18.0, 75.0, 45.0, 39.0, 41.0, 56.0, 71.0, 54.0, 58.0, 79.0, 30.0, 75.0, 45.0, 38.0, 55.0, 24.0, 68.0, 30.0, 24.0, 52.0, 29.0, 76.0, 25.0, 58.0, 65.0, 53.0, 64.0, 32.0, 74.0, 18.0, 52.0, 48.0, 65.0, 42.0, 77.0, 31.0, 63.0, 35.0, 48.0, 71.0, 48.0, 70.0, 57.0, 32.0, 45.0, 68.0, 23.0, 26.0, 37.0, 34.0, 27.0, 49.0, 57.0, 42.0, 67.0, 70.0, 59.0, 29.0, 20.0, 42.0, 18.0, 48.0, 41.0, 77.0, 68.0, 79.0, 49.0, 24.0, 24.0, 23.0, 73.0, 27.0, 32.0, 80.0, 39.0, 74.0, 47.0, 44.0, 54.0, 46.0, 77.0, 55.0, 34.0, 74.0, 21.0, 69.0, 69.0, 62.0, 35.0, 21.0, 24.0, 75.0, 67.0, 71.0, 49.0, 28.0, 56.0, 58.0, 68.0, 42.0, 60.0, 44.0, 37.0, 69.0, 75.0, 27.0, 57.0, 52.0, 22.0, 76.0, 48.0, 78.0, 79.0, 28.0, 50.0, 35.0, 66.0, 66.0, 58.0, 22.0, 23.0, 74.0, 38.0, 31.0, 39.0, 55.0, 18.0, 66.0, 30.0, 57.0, 28.0, 50.0, 24.0, 76.0, 18.0, 44.0, 80.0, 54.0, 43.0, 50.0, 79.0, 67.0, 63.0, 53.0, 71.0, 19.0, 38.0, 53.0, 65.0, 20.0, 45.0, 25.0, 75.0, 66.0, 25.0, 24.0, 33.0, 43.0, 66.0, 33.0, 46.0, 53.0, 36.0, 50.0, 76.0, 80.0, 74.0, 64.0, 22.0, 41.0, 20.0, 75.0, 54.0, 72.0, 38.0, 24.0, 67.0, 32.0, 50.0, 35.0, 21.0, 54.0, 64.0, 29.0, 29.0, 38.0, 47.0, 27.0, 73.0, 26.0, 69.0, 35.0, 70.0, 25.0, 19.0, 80.0, 60.0, 39.0, 76.0, 34.0, 59.0, 49.0, 23.0, 34.0, 23.0, 24.0, 50.0, 54.0, 66.0], 'escolaridad': ['Secundaria', 'Profesional', 'Secundaria', 'Secundaria', 'Secundaria', 'Secundaria', 'Secundaria', 'Secundaria', 'Secundaria', 'Profesional', 'Secundaria', 'Primaria', 'Secundaria', 'Secundaria', 'Secundaria', 'Secundaria', 'Secundaria', 'Secundaria', 'Secundaria', 'Profesional', 'Secundaria', 'Secundaria', 'Secundaria', 'Secundaria', 'Profesional', 'Secundaria', 'Secundaria', 'Secundaria', 'Secundaria', 'Secundaria', 'Secundaria', 'Secundaria', 'Secundaria', 'Secundaria', 'Secundaria', 'Profesional', 'Secundaria', 'Primaria', 'Secundaria', 'Maestria', 'Secundaria', 'Secundaria', 'Secundaria', 'Secundaria', 'Secundaria', 'Secundaria', 'Secundaria', 'Secundaria', 'Secundaria', 'Secundaria', 'Secundaria', 'Profesional', 'Profesional', 'Secundaria', 'Secundaria', 'Secundaria', 'Profesional', 'Secundaria', 'Secundaria', 'Secundaria', 'Primaria', 'Profesional', 'Secundaria', 'Profesional', 'Secundaria', 'Secundaria', 'Secundaria', 'Secundaria', 'Secundaria', 'Secundaria', 'Secundaria', 'Secundaria', 'Secundaria', 'Secundaria', 'Profesional', 'Profesional', 'Secundaria', 'Profesional', 'Secundaria', 'Secundaria', 'Profesional', 'Secundaria', 'Secundaria', 'Maestria', 'Secundaria', 'Secundaria', 'Profesional', 'Profesional', 'Secundaria', 'Secundaria', 'Secundaria', 'Secundaria', 'Secundaria', 'Profesional', 'Secundaria', 'Secundaria', 'Profesional', 'Profesional', 'Profesional', 'Secundaria', 'Secundaria', 'Secundaria', 'Profesional', 'Maestria', 'Profesional', 'Secundaria', 'Primaria', 'Secundaria', 'Profesional', 'Profesional', 'Primaria', 'Secundaria', 'Secundaria', 'Profesional', 'Profesional', 'Profesional', 'Secundaria', 'Secundaria', 'Maestria', 'Secundaria', 'Profesional', 'Secundaria', 'Secundaria', 'Profesional', 'Secundaria', 'Secundaria', 'Secundaria', 'Profesional', 'Secundaria', 'Secundaria', 'Profesional', 'Secundaria', 'Secundaria', 'Profesional', 'Secundaria', 'Secundaria', 'Secundaria', 'Profesional', 'Secundaria', 'Secundaria', 'Secundaria', 'Profesional', 'Secundaria', 'Profesional', 'Primaria', 'Secundaria', 'Profesional', 'Secundaria', 'Secundaria', 'Profesional', 'Profesional', 'Secundaria', 'Primaria', 'Secundaria', 'Primaria', 'Secundaria', 'Secundaria', 'Secundaria', 'Profesional', 'Profesional', 'Secundaria', 'Secundaria', 'Secundaria', 'Profesional', 'Secundaria', 'Secundaria', 'Secundaria', 'Secundaria', 'Secundaria', 'Secundaria', 'Secundaria', 'Secundaria', 'Secundaria', 'Maestria', 'Secundaria', 'Secundaria', 'Secundaria', 'Profesional', 'Secundaria', 'Secundaria', 'Secundaria', 'Secundaria', 'Profesional', 'Secundaria', 'Secundaria', 'Secundaria', 'Secundaria', 'Secundaria', 'Primaria', 'Secundaria', 'Profesional', 'Secundaria', 'Secundaria', 'Secundaria', 'Secundaria', 'Secundaria', 'Profesional', 'Secundaria', 'Maestria', 'Secundaria', 'Secundaria', 'Profesional', 'Secundaria', 'Secundaria', 'Profesional', 'Profesional', 'Profesional', 'Profesional', 'Profesional', 'Secundaria', 'Profesional', 'Profesional', 'Maestria', 'Secundaria', 'Secundaria', 'Secundaria', 'Maestria', 'Secundaria', 'Secundaria', 'Secundaria', 'Secundaria', 'Profesional', 'Profesional', 'Secundaria', 'Secundaria', 'Profesional', 'Profesional', 'Secundaria', 'Secundaria', 'Secundaria', 'Profesional', 'Secundaria', 'Profesional', 'Secundaria', 'Secundaria', 'Profesional', 'Secundaria', 'Secundaria', 'Secundaria', 'Secundaria', 'Secundaria', 'Secundaria', 'Profesional', 'Secundaria', 'Secundaria', 'Secundaria', 'Secundaria', 'Secundaria', 'Secundaria', 'Primaria', 'Secundaria', 'Secundaria', 'Profesional', 'Secundaria', 'Secundaria', 'Secundaria', 'Secundaria', 'Secundaria', 'Secundaria', 'Secundaria', 'Secundaria', 'Secundaria', 'Secundaria', 'Profesional', 'Secundaria', 'Profesional', 'Secundaria', 'Secundaria', 'Secundaria', 'Secundaria', 'Secundaria', 'Secundaria', 'Secundaria', 'Secundaria', 'Secundaria', 'Secundaria', 'Secundaria', 'Secundaria', 'Secundaria', 'Profesional', 'Secundaria', 'Secundaria', 'Secundaria', 'Secundaria', 'Secundaria', 'Secundaria', 'Primaria', 'Secundaria', 'Secundaria', 'Secundaria', 'Profesional', 'Profesional', 'Secundaria', 'Secundaria', 'Primaria', 'Profesional', 'Secundaria', 'Profesional', 'Secundaria', 'Maestria', 'Secundaria', 'Secundaria', 'Secundaria', 'Secundaria', 'Secundaria', 'Secundaria', 'Primaria', 'Profesional', 'Secundaria', 'Profesional', 'Secundaria', 'Profesional', 'Profesional', 'Profesional', 'Secundaria', 'Profesional', 'Profesional', 'Secundaria', 'Profesional', 'Profesional', 'Secundaria', 'Maestria', 'Profesional', 'Profesional', 'Secundaria', 'Secundaria', 'Profesional', 'Secundaria', 'Profesional', 'Secundaria', 'Primaria', 'Secundaria', 'Secundaria', 'Primaria', 'Primaria', 'Maestria', 'Secundaria', 'Profesional', 'Secundaria', 'Secundaria', 'Secundaria', 'Secundaria', 'Profesional', 'Secundaria', 'Secundaria', 'Secundaria', 'Secundaria', 'Profesional', 'Secundaria', 'Secundaria', 'Secundaria', 'Secundaria', 'Primaria', 'Secundaria', 'Secundaria', 'Maestria', 'Secundaria', 'Secundaria', 'Secundaria', 'Secundaria', 'Profesional', 'Profesional', 'Secundaria', 'Secundaria', 'Secundaria', 'Profesional', 'Profesional', 'Profesional', 'Profesional', 'Secundaria', 'Profesional', 'Profesional', 'Secundaria', 'Secundaria', 'Profesional', 'Secundaria', 'Secundaria', 'Secundaria', 'Secundaria', 'Secundaria', 'Primaria', 'Secundaria', 'Secundaria', 'Secundaria', 'Secundaria', 'Secundaria', 'Secundaria', 'Secundaria', 'Secundaria', 'Profesional', 'Secundaria', 'Primaria', 'Primaria', 'Secundaria', 'Profesional', 'Secundaria', 'Primaria', 'Secundaria', 'Secundaria', 'Secundaria', 'Profesional', 'Secundaria', 'Secundaria', 'Profesional', 'Secundaria', 'Profesional', 'Secundaria', 'Secundaria', 'Profesional', 'Secundaria', 'Secundaria', 'Secundaria', 'Secundaria', 'Secundaria', 'Primaria', 'Secundaria', 'Secundaria', 'Secundaria', 'Primaria', 'Secundaria', 'Secundaria', 'Secundaria', 'Secundaria', 'Secundaria', 'Secundaria', 'Secundaria', 'Profesional', 'Primaria', 'Profesional', 'Profesional', 'Secundaria', 'Secundaria', 'Secundaria', 'Secundaria', 'Secundaria', 'Secundaria', 'Secundaria', 'Secundaria', 'Profesional', 'Profesional', 'Secundaria', 'Secundaria', 'Maestria', 'Secundaria', 'Profesional', 'Maestria', 'Secundaria', 'Secundaria', 'Profesional', 'Secundaria', 'Profesional', 'Secundaria', 'Secundaria', 'Profesional', 'Secundaria', 'Secundaria', 'Secundaria', 'Profesional', 'Secundaria', 'Profesional', 'Secundaria', 'Profesional', 'Maestria', 'Secundaria', 'Secundaria', 'Secundaria', 'Secundaria', 'Secundaria', 'Secundaria', 'Secundaria', 'Secundaria', 'Secundaria', 'Profesional', 'Secundaria', 'Secundaria', 'Secundaria', 'Secundaria', 'Secundaria', 'Secundaria', 'Secundaria', 'Secundaria', 'Secundaria', 'Secundaria', 'Secundaria', 'Profesional', 'Secundaria', 'Secundaria', 'Primaria', 'Secundaria', 'Secundaria', 'Secundaria', 'Profesional', 'Profesional', 'Secundaria', 'Secundaria', 'Secundaria', 'Secundaria', 'Profesional', 'Secundaria', 'Secundaria'], 'estado_civil': ['casada', 'divorciada', 'divorciada', 'casada', 'divorciada', 'divorciada', 'casada', 'casada', 'soltera', 'soltera', 'soltera', 'casada', 'casada', 'casada', 'divorciada', 'divorciada', 'casada', 'divorciada', 'soltera', 'casada', 'soltera', 'soltera', 'casada', 'casada', 'casada', 'divorciada', 'soltera', 'soltera', 'soltera', 'divorciada', 'casada', 'divorciada', 'casada', 'casada', 'casada', 'divorciada', 'divorciada', 'divorciada', 'casada', 'soltera', 'divorciada', 'soltera', 'divorciada', 'soltera', 'soltera', 'casada', 'casada', 'divorciada', 'casada', 'soltera', 'soltera', 'casada', 'soltera', 'casada', 'viuda', 'divorciada', 'viuda', 'casada', 'divorciada', 'divorciada', 'casada', 'soltera', 'soltera', 'divorciada', 'casada', 'casada', 'divorciada', 'divorciada', 'divorciada', 'soltera', 'casada', 'divorciada', 'soltera', 'casada', 'casada', 'divorciada', 'soltera', 'divorciada', 'casada', 'casada', 'divorciada', 'soltera', 'divorciada', 'divorciada', 'divorciada', 'casada', 'casada', 'casada', 'casada', 'divorciada', 'divorciada', 'casada', 'soltera', 'casada', 'casada', 'casada', 'divorciada', 'casada', 'casada', 'viuda', 'soltera', 'casada', 'casada', 'casada', 'soltera', 'casada', 'casada', 'divorciada', 'viuda', 'soltera', 'soltera', 'divorciada', 'divorciada', 'divorciada', 'casada', 'divorciada', 'casada', 'divorciada', 'casada', 'soltera', 'casada', 'soltera', 'casada', 'divorciada', 'soltera', 'divorciada', 'divorciada', 'casada', 'soltera', 'divorciada', 'casada', 'viuda', 'divorciada', 'casada', 'soltera', 'divorciada', 'soltera', 'divorciada', 'divorciada', 'casada', 'soltera', 'soltera', 'divorciada', 'soltera', 'soltera', 'casada', 'divorciada', 'divorciada', 'casada', 'casada', 'soltera', 'casada', 'divorciada', 'casada', 'divorciada', 'soltera', 'soltera', 'casada', 'casada', 'soltera', 'soltera', 'casada', 'casada', 'viuda', 'soltera', 'soltera', 'casada', 'casada', 'soltera', 'divorciada', 'soltera', 'soltera', 'divorciada', 'divorciada', 'viuda', 'casada', 'casada', 'soltera', 'divorciada', 'soltera', 'casada', 'soltera', 'casada', 'casada', 'casada', 'casada', 'divorciada', 'divorciada', 'casada', 'soltera', 'casada', 'soltera', 'casada', 'casada', 'casada', 'casada', 'soltera', 'soltera', 'casada', 'casada', 'soltera', 'casada', 'divorciada', 'casada', 'casada', 'divorciada', 'casada', 'casada', 'casada', 'casada', 'casada', 'casada', 'casada', 'divorciada', 'casada', 'soltera', 'soltera', 'divorciada', 'casada', 'casada', 'divorciada', 'divorciada', 'soltera', 'soltera', 'soltera', 'divorciada', 'divorciada', 'casada', 'casada', 'soltera', 'soltera', 'divorciada', 'divorciada', 'soltera', 'soltera', 'viuda', 'soltera', 'divorciada', 'casada', 'casada', 'casada', 'divorciada', 'casada', 'divorciada', 'divorciada', 'soltera', 'casada', 'soltera', 'divorciada', 'casada', 'divorciada', 'soltera', 'divorciada', 'soltera', 'divorciada', 'divorciada', 'casada', 'divorciada', 'casada', 'soltera', 'soltera', 'divorciada', 'casada', 'divorciada', 'divorciada', 'casada', 'soltera', 'casada', 'soltera', 'soltera', 'divorciada', 'soltera', 'divorciada', 'soltera', 'soltera', 'divorciada', 'divorciada', 'viuda', 'casada', 'soltera', 'soltera', 'casada', 'soltera', 'divorciada', 'divorciada', 'casada', 'soltera', 'soltera', 'soltera', 'casada', 'casada', 'casada', 'divorciada', 'divorciada', 'divorciada', 'soltera', 'casada', 'soltera', 'soltera', 'casada', 'casada', 'casada', 'viuda', 'soltera', 'divorciada', 'soltera', 'casada', 'casada', 'divorciada', 'divorciada', 'casada', 'soltera', 'soltera', 'soltera', 'soltera', 'soltera', 'casada', 'soltera', 'soltera', 'soltera', 'casada', 'viuda', 'divorciada', 'casada', 'divorciada', 'viuda', 'casada', 'soltera', 'casada', 'soltera', 'casada', 'divorciada', 'casada', 'divorciada', 'soltera', 'casada', 'casada', 'divorciada', 'soltera', 'soltera', 'soltera', 'casada', 'casada', 'divorciada', 'soltera', 'casada', 'soltera', 'divorciada', 'soltera', 'soltera', 'divorciada', 'divorciada', 'casada', 'casada', 'soltera', 'soltera', 'divorciada', 'casada', 'casada', 'casada', 'soltera', 'divorciada', 'casada', 'casada', 'soltera', 'casada', 'divorciada', 'divorciada', 'soltera', 'divorciada', 'divorciada', 'casada', 'divorciada', 'soltera', 'soltera', 'casada', 'soltera', 'casada', 'divorciada', 'casada', 'divorciada', 'soltera', 'divorciada', 'divorciada', 'casada', 'soltera', 'divorciada', 'casada', 'soltera', 'casada', 'divorciada', 'casada', 'divorciada', 'casada', 'divorciada', 'casada', 'soltera', 'soltera', 'casada', 'divorciada', 'soltera', 'soltera', 'casada', 'casada', 'casada', 'casada', 'divorciada', 'soltera', 'divorciada', 'divorciada', 'casada', 'divorciada', 'soltera', 'soltera', 'casada', 'soltera', 'casada', 'casada', 'casada', 'casada', 'casada', 'divorciada', 'soltera', 'casada', 'divorciada', 'casada', 'divorciada', 'casada', 'casada', 'soltera', 'casada', 'casada', 'soltera', 'casada', 'soltera', 'casada', 'casada', 'soltera', 'casada', 'casada', 'soltera', 'divorciada', 'casada', 'soltera', 'soltera', 'casada', 'divorciada', 'casada', 'casada', 'casada', 'divorciada', 'soltera', 'casada', 'casada', 'casada', 'soltera', 'divorciada', 'soltera', 'casada', 'divorciada', 'soltera', 'casada', 'viuda', 'casada', 'casada', 'casada', 'soltera', 'soltera', 'casada', 'viuda', 'divorciada', 'soltera', 'divorciada', 'casada', 'casada', 'soltera', 'casada', 'divorciada', 'casada', 'casada', 'viuda', 'soltera', 'divorciada', 'divorciada', 'soltera', 'soltera', 'soltera', 'soltera', 'soltera', 'casada', 'casada', 'casada', 'casada', 'divorciada', 'soltera', 'casada', 'viuda', 'casada', 'divorciada', 'casada'], 'estrato': [5.0, 1.0, 3.0, 3.0, 2.0, 3.0, 4.0, 2.0, 2.0, 3.0, 2.0, 2.0, 2.0, 3.0, 1.0, 1.0, 3.0, 2.0, 3.0, 2.0, 3.0, 1.0, 2.0, 2.0, 3.0, 1.0, 3.0, 3.0, 3.0, 1.0, 1.0, 2.0, 2.0, 2.0, 2.0, 2.0, 2.0, 2.0, 5.0, 1.0, 2.0, 2.0, 3.0, 2.0, 2.0, 3.0, 2.0, 2.0, 2.0, 3.0, 3.0, 2.0, 3.0, 4.0, 2.0, 3.0, 1.0, 2.0, 1.0, 2.0, 3.0, 1.0, 2.0, 1.0, 3.0, 2.0, 2.0, 3.0, 2.0, 2.0, 2.0, 3.0, 2.0, 2.0, 3.0, 1.0, 3.0, 1.0, 2.0, 3.0, 4.0, 2.0, 2.0, 1.0, 2.0, 2.0, 1.0, 4.0, 3.0, 1.0, 3.0, 2.0, 1.0, 1.0, 3.0, 1.0, 2.0, 4.0, 2.0, 5.0, 1.0, 2.0, 1.0, 3.0, 1.0, 2.0, 1.0, 1.0, 1.0, 3.0, 2.0, 1.0, 3.0, 2.0, 4.0, 2.0, 2.0, 3.0, 2.0, 1.0, 3.0, 3.0, 4.0, 2.0, 3.0, 3.0, 3.0, 3.0, 1.0, 4.0, 3.0, 1.0, 2.0, 1.0, 3.0, 3.0, 2.0, 2.0, 3.0, 2.0, 1.0, 2.0, 4.0, 3.0, 3.0, 3.0, 2.0, 3.0, 2.0, 3.0, 2.0, 2.0, 3.0, 4.0, 2.0, 3.0, 2.0, 1.0, 2.0, 3.0, 2.0, 3.0, 1.0, 1.0, 2.0, 1.0, 1.0, 1.0, 4.0, 2.0, 2.0, 2.0, 2.0, 3.0, 3.0, 1.0, 2.0, 2.0, 2.0, 3.0, 1.0, 4.0, 2.0, 3.0, 1.0, 3.0, 2.0, 2.0, 3.0, 2.0, 3.0, 2.0, 3.0, 1.0, 2.0, 4.0, 5.0, 1.0, 3.0, 2.0, 2.0, 1.0, 3.0, 2.0, 3.0, 3.0, 4.0, 2.0, 2.0, 1.0, 3.0, 2.0, 2.0, 1.0, 1.0, 3.0, 1.0, 1.0, 2.0, 3.0, 4.0, 2.0, 2.0, 2.0, 3.0, 2.0, 3.0, 3.0, 3.0, 2.0, 1.0, 3.0, 1.0, 3.0, 1.0, 3.0, 3.0, 2.0, 2.0, 1.0, 2.0, 3.0, 5.0, 2.0, 1.0, 2.0, 2.0, 3.0, 1.0, 3.0, 1.0, 4.0, 2.0, 1.0, 3.0, 2.0, 3.0, 3.0, 3.0, 5.0, 2.0, 2.0, 2.0, 2.0, 2.0, 1.0, 3.0, 3.0, 3.0, 1.0, 2.0, 4.0, 2.0, 3.0, 2.0, 3.0, 2.0, 4.0, 3.0, 1.0, 2.0, 1.0, 4.0, 1.0, 3.0, 4.0, 1.0, 1.0, 1.0, 1.0, 1.0, 3.0, 3.0, 3.0, 3.0, 2.0, 5.0, 3.0, 2.0, 1.0, 3.0, 4.0, 3.0, 2.0, 2.0, 1.0, 3.0, 3.0, 2.0, 1.0, 3.0, 3.0, 3.0, 1.0, 2.0, 2.0, 3.0, 1.0, 1.0, 3.0, 4.0, 1.0, 2.0, 3.0, 4.0, 3.0, 3.0, 3.0, 2.0, 2.0, 2.0, 1.0, 3.0, 1.0, 1.0, 3.0, 2.0, 2.0, 2.0, 3.0, 2.0, 2.0, 2.0, 3.0, 2.0, 2.0, 2.0, 1.0, 3.0, 2.0, 4.0, 5.0, 2.0, 2.0, 5.0, 2.0, 2.0, 1.0, 3.0, 1.0, 5.0, 1.0, 3.0, 1.0, 4.0, 3.0, 2.0, 2.0, 1.0, 2.0, 2.0, 4.0, 4.0, 3.0, 3.0, 3.0, 1.0, 1.0, 4.0, 3.0, 2.0, 1.0, 2.0, 3.0, 4.0, 1.0, 2.0, 1.0, 2.0, 4.0, 2.0, 3.0, 4.0, 4.0, 4.0, 2.0, 2.0, 3.0, 1.0, 3.0, 3.0, 2.0, 3.0, 2.0, 4.0, 2.0, 1.0, 2.0, 3.0, 2.0, 2.0, 3.0, 1.0, 2.0, 3.0, 2.0, 3.0, 2.0, 3.0, 2.0, 3.0, 1.0, 1.0, 3.0, 2.0, 2.0, 2.0, 1.0, 3.0, 3.0, 2.0, 5.0, 2.0, 3.0, 1.0, 1.0, 3.0, 3.0, 2.0, 3.0, 2.0, 1.0, 3.0, 3.0, 1.0, 2.0, 2.0, 2.0, 3.0, 2.0, 3.0, 1.0, 2.0, 3.0, 3.0, 1.0, 2.0, 1.0, 2.0, 2.0, 1.0, 5.0, 1.0, 2.0, 3.0, 2.0, 1.0, 3.0, 1.0, 3.0, 3.0, 3.0, 3.0, 2.0, 2.0, 2.0, 2.0, 3.0, 2.0, 3.0, 1.0, 4.0, 2.0, 3.0, 3.0, 2.0, 2.0, 3.0, 3.0, 1.0, 3.0, 2.0, 2.0, 1.0, 1.0, 5.0, 1.0, 1.0, 2.0, 2.0], 'genero': ['masculino', 'masculino', 'femenino', 'masculino', 'otro', 'no binario', 'masculino', 'femenino', 'femenino', 'masculino', 'femenino', 'femenino', 'femenino', 'femenino', 'no binario', 'femenino', 'masculino', 'femenino', 'masculino', 'masculino', 'femenino', 'femenino', 'no binario', 'masculino', 'femenino', 'masculino', 'femenino', 'femenino', 'femenino', 'femenino', 'femenino', 'no binario', 'masculino', 'masculino', 'no binario', 'masculino', 'femenino', 'femenino', 'femenino', 'masculino', 'masculino', 'masculino', 'masculino', 'masculino', 'femenino', 'femenino', 'no binario', 'femenino', 'femenino', 'masculino', 'femenino', 'femenino', 'masculino', 'femenino', 'masculino', 'masculino', 'femenino', 'femenino', 'masculino', 'masculino', 'femenino', 'masculino', 'femenino', 'masculino', 'femenino', 'femenino', 'no binario', 'masculino', 'femenino', 'femenino', 'femenino', 'masculino', 'masculino', 'femenino', 'femenino', 'femenino', 'masculino', 'no binario', 'no binario', 'masculino', 'femenino', 'no binario', 'femenino', 'masculino', 'femenino', 'masculino', 'masculino', 'masculino', 'no binario', 'no binario', 'masculino', 'femenino', 'femenino', 'femenino', 'femenino', 'femenino', 'no binario', 'femenino', 'masculino', 'femenino', 'femenino', 'masculino', 'masculino', 'masculino', 'no binario', 'femenino', 'masculino', 'femenino', 'femenino', 'femenino', 'femenino', 'masculino', 'femenino', 'femenino', 'femenino', 'femenino', 'femenino', 'femenino', 'femenino', 'masculino', 'femenino', 'femenino', 'masculino', 'femenino', 'femenino', 'femenino', 'masculino', 'femenino', 'femenino', 'masculino', 'masculino', 'femenino', 'masculino', 'femenino', 'femenino', 'femenino', 'otro', 'femenino', 'masculino', 'femenino', 'masculino', 'femenino', 'femenino', 'femenino', 'femenino', 'femenino', 'femenino', 'femenino', 'femenino', 'masculino', 'femenino', 'masculino', 'femenino', 'femenino', 'femenino', 'femenino', 'femenino', 'femenino', 'masculino', 'masculino', 'femenino', 'masculino', 'masculino', 'masculino', 'otro', 'femenino', 'no binario', 'femenino', 'femenino', 'masculino', 'masculino', 'femenino', 'femenino', 'femenino', 'masculino', 'masculino', 'masculino', 'femenino', 'no binario', 'no binario', 'masculino', 'femenino', 'femenino', 'femenino', 'masculino', 'masculino', 'masculino', 'femenino', 'masculino', 'femenino', 'masculino', 'femenino', 'femenino', 'femenino', 'masculino', 'otro', 'masculino', 'femenino', 'masculino', 'masculino', 'femenino', 'masculino', 'masculino', 'masculino', 'femenino', 'masculino', 'femenino', 'femenino', 'femenino', 'femenino', 'femenino', 'masculino', 'masculino', 'femenino', 'masculino', 'masculino', 'femenino', 'femenino', 'femenino', 'masculino', 'femenino', 'masculino', 'masculino', 'femenino', 'femenino', 'femenino', 'femenino', 'no binario', 'femenino', 'femenino', 'femenino', 'no binario', 'femenino', 'masculino', 'femenino', 'femenino', 'femenino', 'femenino', 'masculino', 'femenino', 'masculino', 'no binario', 'femenino', 'femenino', 'masculino', 'femenino', 'masculino', 'masculino', 'masculino', 'masculino', 'femenino', 'masculino', 'femenino', 'masculino', 'masculino', 'femenino', 'femenino', 'femenino', 'masculino', 'no binario', 'no binario', 'femenino', 'femenino', 'masculino', 'masculino', 'masculino', 'masculino', 'femenino', 'femenino', 'masculino', 'masculino', 'femenino', 'masculino', 'femenino', 'masculino', 'masculino', 'masculino', 'masculino', 'femenino', 'masculino', 'femenino', 'masculino', 'femenino', 'no binario', 'femenino', 'no binario', 'femenino', 'femenino', 'femenino', 'masculino', 'masculino', 'masculino', 'femenino', 'femenino', 'femenino', 'masculino', 'femenino', 'femenino', 'femenino', 'masculino', 'femenino', 'masculino', 'no binario', 'femenino', 'femenino', 'masculino', 'femenino', 'femenino', 'femenino', 'femenino', 'femenino', 'masculino', 'masculino', 'no binario', 'femenino', 'masculino', 'femenino', 'no binario', 'femenino', 'masculino', 'masculino', 'femenino', 'femenino', 'femenino', 'femenino', 'femenino', 'femenino', 'masculino', 'femenino', 'masculino', 'masculino', 'femenino', 'masculino', 'femenino', 'masculino', 'femenino', 'masculino', 'femenino', 'masculino', 'masculino', 'femenino', 'masculino', 'femenino', 'femenino', 'masculino', 'femenino', 'femenino', 'no binario', 'femenino', 'masculino', 'femenino', 'masculino', 'femenino', 'femenino', 'masculino', 'femenino', 'femenino', 'masculino', 'masculino', 'femenino', 'femenino', 'no binario', 'masculino', 'femenino', 'masculino', 'masculino', 'femenino', 'femenino', 'femenino', 'no binario', 'femenino', 'masculino', 'masculino', 'otro', 'masculino', 'no binario', 'masculino', 'femenino', 'femenino', 'masculino', 'masculino', 'masculino', 'femenino', 'femenino', 'masculino', 'masculino', 'femenino', 'masculino', 'masculino', 'masculino', 'femenino', 'masculino', 'masculino', 'femenino', 'masculino', 'masculino', 'femenino', 'femenino', 'masculino', 'femenino', 'no binario', 'masculino', 'masculino', 'masculino', 'femenino', 'femenino', 'femenino', 'femenino', 'masculino', 'femenino', 'masculino', 'femenino', 'masculino', 'no binario', 'femenino', 'femenino', 'masculino', 'femenino', 'masculino', 'masculino', 'masculino', 'masculino', 'masculino', 'no binario', 'masculino', 'masculino', 'femenino', 'no binario', 'masculino', 'femenino', 'femenino', 'masculino', 'masculino', 'femenino', 'masculino', 'masculino', 'masculino', 'masculino', 'no binario', 'femenino', 'masculino', 'masculino', 'femenino', 'masculino', 'femenino', 'femenino', 'masculino', 'femenino', 'femenino', 'femenino', 'femenino', 'femenino', 'masculino', 'femenino', 'masculino', 'femenino', 'otro', 'masculino', 'masculino', 'no binario', 'femenino', 'femenino', 'femenino', 'masculino', 'masculino', 'masculino', 'femenino', 'no binario', 'femenino', 'femenino', 'femenino', 'masculino', 'masculino', 'masculino', 'masculino', 'masculino', 'masculino', 'masculino', 'femenino', 'femenino', 'masculino', 'femenino', 'masculino', 'masculino', 'femenino', 'femenino', 'femenino', 'femenino', 'masculino', 'masculino', 'masculino', 'masculino', 'masculino', 'masculino', 'masculino', 'femenino', 'femenino', 'no binario', 'femenino', 'femenino'], 'promedio': [2.4, 0.9, 3.2, 2.1, 2.1, 2.0, 2.7, 4.9, 2.1, 4.5, 3.0, 3.0, 3.5, 1.8, 1.2, 0.1, 1.0, 3.9, 2.9, 3.0, 3.0, 3.0, 4.3, 2.3, 2.6, 2.3, 3.0, 2.8, 1.0, 2.9, 3.7, 3.2, 3.3, 3.9, 2.6, 2.4, 3.9, 1.8, 3.3, 2.1, 1.9, 1.7, 2.5, 2.9, 1.5, 4.1, 0.9, 3.0, 2.3, 4.5, 2.8, 3.8, 3.3, 3.9, 3.0, 2.7, 2.4, 1.1, 2.6, 3.1, 4.9, 3.1, 3.0, 2.1, 2.2, 2.3, 3.3, 0.8, 1.7, 3.9, 4.3, 2.1, 1.5, 2.1, 4.0, 3.1, 2.9, 0.0, 2.5, 4.0, 2.3, 3.3, 3.5, 1.2, 3.0, 3.4, 2.7, 0.0, 2.1, 2.2, 3.4, 2.6, 3.8, 1.8, 2.0, 2.4, 4.0, 1.9, 1.8, 3.4, 2.6, 3.0, 3.1, 3.1, 3.5, 2.1, 2.2, 3.7, 4.1, 4.7, 3.6, 3.6, 1.4, 3.9, 1.4, 3.8, 1.6, 1.7, 1.8, 3.0, 3.6, 2.1, 2.2, 3.7, 2.7, 2.5, 1.3, 1.2, 2.1, 1.3, 3.2, 1.5, 2.6, 1.2, 4.2, 1.9, 3.6, 4.8, 4.0, 2.8, 3.6, 1.3, 2.2, 1.8, 2.4, 4.0, 3.5, 3.4, 3.0, 3.8, 0.2, 3.4, 3.5, 2.9, 2.0, 1.7, 2.5, 2.3, 1.2, 4.6, 2.3, 4.4, 4.9, 3.7, 0.1, 3.0, 2.0, 1.5, 3.6, 3.8, 2.4, 1.6, 2.8, 3.4, 3.1, 3.8, 3.0, 2.9, 1.5, 3.6, 2.3, 3.0, 3.0, 1.3, 1.1, 3.3, 2.4, 3.1, 3.9, 2.8, 3.1, 3.0, 1.3, 3.9, 3.8, 3.1, 2.4, 2.2, 2.4, 2.4, 0.9, 3.4, 3.7, 2.8, 2.5, 2.1, 2.3, 4.9, 1.3, 2.5, 3.6, 0.2, 3.0, 4.1, 3.2, 2.3, 2.7, 2.6, 2.9, 1.8, 2.9, 2.0, 4.4, 2.4, 3.3, 1.0, 2.1, 2.1, 3.0, 2.4, 3.0, 1.3, 1.4, 3.2, 3.3, 2.5, 2.6, 1.6, 1.1, 2.4, 3.8, 0.5, 3.3, 5.0, 2.1, 2.0, 0.5, 3.4, 3.5, 0.3, 4.0, 0.4, 3.5, 4.0, 3.5, 1.4, 4.2, 1.1, 2.0, 4.8, 0.8, 2.5, 4.2, 1.9, 0.9, 3.0, 3.2, 1.0, 1.9, 2.6, 3.3, 2.3, 3.0, 3.0, 2.0, 1.0, 1.5, 2.0, 2.9, 0.7, 1.2, 4.0, 1.9, 4.8, 1.4, 2.7, 2.7, 4.3, 0.6, 4.0, 1.1, 3.7, 2.3, 2.1, 3.7, 3.0, 2.4, 2.2, 3.0, 3.0, 3.5, 0.9, 3.5, 2.7, 3.0, 3.7, 1.0, 3.0, 4.4, 0.9, 2.7, 3.6, 2.5, 2.2, 3.6, 1.9, 3.1, 0.2, 3.1, 4.0, 2.3, 3.8, 1.3, 3.5, 1.2, 2.6, 3.2, 2.6, 1.9, 3.0, 3.7, 3.6, 1.1, 2.8, 2.0, 3.2, 3.5, 4.0, 3.6, 2.3, 3.0, 3.6, 1.9, 0.6, 2.0, 0.6, 0.9, 3.3, 2.1, 2.7, 2.5, 2.9, 3.5, 2.9, 1.6, 4.4, 3.9, 3.5, 3.2, 2.0, 2.2, 4.0, 2.9, 4.9, 2.6, 2.2, 3.8, 3.7, 3.6, 3.0, 3.4, 2.6, 2.0, 2.4, 3.9, 1.5, 5.0, 3.9, 3.7, 1.2, 1.8, 0.4, 2.5, 0.0, 3.4, 4.7, 3.6, 2.0, 2.2, 1.7, 3.1, 2.4, 3.1, 0.0, 4.8, 2.7, 1.1, 3.5, 4.3, 1.0, 3.7, 2.1, 1.8, 3.2, 2.2, 0.1, 1.6, 3.0, 2.8, 4.5, 2.0, 1.0, 1.0, 2.9, 1.5, 1.2, 3.2, 0.2, 2.1, 2.5, 1.9, 2.9, 4.2, 0.5, 0.2, 0.6, 3.1, 3.1, 4.2, 2.7, 3.0, 1.0, 2.5, 4.0, 4.0, 0.3, 0.3, 2.9, 2.1, 2.0, 2.5, 1.1, 3.6, 3.1, 3.1, 1.7, 3.0, 3.5, 1.3, 1.7, 3.4, 3.2, 4.5, 4.2, 4.1, 3.5, 3.0, 0.1, 3.8, 0.2, 3.4, 2.0, 3.3, 1.9, 0.7, 1.3, 3.7, 3.5, 2.3, 2.7, 3.4, 4.9, 3.7, 1.8, 2.4, 3.2, 0.6, 3.4, 4.6, 3.2, 2.2, 2.2, 3.5, 2.2, 1.4, 0.1, 3.1, 0.2, 3.3, 3.7, 2.0, 4.9, 3.4, 0.8, 2.4, 2.1, 2.9, 2.1, 2.7, 3.0], 'region': ['Andina', 'Andina', 'Pacifica', 'Pacifica', 'Orinoquia', 'Caribe', 'Amazonia', 'Andina', 'Caribe', 'Andina', 'Caribe', 'Pacifica', 'Caribe', 'Pacifica', 'Pacifica', 'Pacifica', 'Caribe', 'Caribe', 'Andina', 'Andina', 'Pacifica', 'Pacifica', 'Caribe', 'Caribe', 'Andina', 'Caribe', 'Andina', 'Caribe', 'Caribe', 'Andina', 'Caribe', 'Caribe', 'Caribe', 'Andina', 'Andina', 'Pacifica', 'Caribe', 'Caribe', 'Caribe', 'Orinoquia', 'Pacifica', 'Pacifica', 'Caribe', 'Pacifica', 'Orinoquia', 'Andina', 'Andina', 'Caribe', 'Caribe', 'Amazonia', 'Orinoquia', 'Caribe', 'Pacifica', 'Caribe', 'Pacifica', 'Pacifica', 'Caribe', 'Caribe', 'Orinoquia', 'Caribe', 'Caribe', 'Andina', 'Andina', 'Andina', 'Pacifica', 'Orinoquia', 'Pacifica', 'Pacifica', 'Pacifica', 'Pacifica', 'Caribe', 'Caribe', 'Caribe', 'Orinoquia', 'Andina', 'Andina', 'Pacifica', 'Caribe', 'Caribe', 'Pacifica', 'Caribe', 'Pacifica', 'Caribe', 'Amazonia', 'Caribe', 'Caribe', 'Caribe', 'Caribe', 'Caribe', 'Caribe', 'Caribe', 'Andina', 'Andina', 'Andina', 'Andina', 'Pacifica', 'Caribe', 'Amazonia', 'Orinoquia', 'Orinoquia', 'Andina', 'Pacifica', 'Amazonia', 'Pacifica', 'Caribe', 'Caribe', 'Pacifica', 'Pacifica', 'Caribe', 'Pacifica', 'Andina', 'Andina', 'Andina', 'Orinoquia', 'Caribe', 'Andina', 'Andina', 'Orinoquia', 'Caribe', 'Caribe', 'Caribe', 'Pacifica', 'Caribe', 'Caribe', 'Caribe', 'Caribe', 'Orinoquia', 'Caribe', 'Caribe', 'Orinoquia', 'Andina', 'Pacifica', 'Caribe', 'Pacifica', 'Andina', 'Caribe', 'Caribe', 'Andina', 'Orinoquia', 'Caribe', 'Andina', 'Caribe', 'Caribe', 'Caribe', 'Andina', 'Caribe', 'Andina', 'Andina', 'Andina', 'Andina', 'Andina', 'Pacifica', 'Andina', 'Orinoquia', 'Andina', 'Caribe', 'Caribe', 'Caribe', 'Pacifica', 'Caribe', 'Pacifica', 'Pacifica', 'Andina', 'Andina', 'Caribe', 'Pacifica', 'Pacifica', 'Pacifica', 'Caribe', 'Caribe', 'Andina', 'Caribe', 'Pacifica', 'Pacifica', 'Caribe', 'Andina', 'Pacifica', 'Caribe', 'Pacifica', 'Pacifica', 'Caribe', 'Caribe', 'Andina', 'Andina', 'Pacifica', 'Andina', 'Andina', 'Caribe', 'Pacifica', 'Orinoquia', 'Caribe', 'Pacifica', 'Pacifica', 'Caribe', 'Orinoquia', 'Amazonia', 'Caribe', 'Caribe', 'Orinoquia', 'Caribe', 'Pacifica', 'Andina', 'Caribe', 'Andina', 'Caribe', 'Orinoquia', 'Andina', 'Andina', 'Caribe', 'Andina', 'Andina', 'Caribe', 'Andina', 'Caribe', 'Orinoquia', 'Caribe', 'Pacifica', 'Pacifica', 'Caribe', 'Caribe', 'Amazonia', 'Orinoquia', 'Andina', 'Caribe', 'Andina', 'Caribe', 'Caribe', 'Andina', 'Orinoquia', 'Caribe', 'Andina', 'Pacifica', 'Caribe', 'Andina', 'Pacifica', 'Caribe', 'Andina', 'Caribe', 'Caribe', 'Caribe', 'Pacifica', 'Amazonia', 'Caribe', 'Caribe', 'Andina', 'Caribe', 'Pacifica', 'Andina', 'Pacifica', 'Andina', 'Pacifica', 'Pacifica', 'Pacifica', 'Pacifica', 'Caribe', 'Caribe', 'Caribe', 'Pacifica', 'Andina', 'Andina', 'Andina', 'Orinoquia', 'Pacifica', 'Caribe', 'Andina', 'Caribe', 'Andina', 'Pacifica', 'Andina', 'Caribe', 'Pacifica', 'Andina', 'Caribe', 'Andina', 'Caribe', 'Andina', 'Caribe', 'Orinoquia', 'Pacifica', 'Caribe', 'Amazonia', 'Andina', 'Andina', 'Andina', 'Caribe', 'Andina', 'Orinoquia', 'Pacifica', 'Andina', 'Pacifica', 'Pacifica', 'Caribe', 'Caribe', 'Caribe', 'Pacifica', 'Caribe', 'Caribe', 'Caribe', 'Pacifica', 'Caribe', 'Pacifica', 'Amazonia', 'Andina', 'Orinoquia', 'Andina', 'Andina', 'Orinoquia', 'Pacifica', 'Caribe', 'Pacifica', 'Caribe', 'Andina', 'Pacifica', 'Pacifica', 'Andina', 'Caribe', 'Caribe', 'Pacifica', 'Caribe', 'Caribe', 'Orinoquia', 'Andina', 'Orinoquia', 'Caribe', 'Pacifica', 'Pacifica', 'Caribe', 'Andina', 'Caribe', 'Andina', 'Andina', 'Caribe', 'Pacifica', 'Caribe', 'Caribe', 'Caribe', 'Andina', 'Pacifica', 'Andina', 'Andina', 'Caribe', 'Caribe', 'Orinoquia', 'Pacifica', 'Andina', 'Pacifica', 'Caribe', 'Pacifica', 'Andina', 'Andina', 'Caribe', 'Caribe', 'Caribe', 'Caribe', 'Caribe', 'Pacifica', 'Andina', 'Caribe', 'Andina', 'Andina', 'Pacifica', 'Pacifica', 'Caribe', 'Pacifica', 'Orinoquia', 'Caribe', 'Andina', 'Caribe', 'Pacifica', 'Caribe', 'Pacifica', 'Pacifica', 'Caribe', 'Andina', 'Andina', 'Amazonia', 'Pacifica', 'Caribe', 'Andina', 'Caribe', 'Caribe', 'Andina', 'Pacifica', 'Caribe', 'Pacifica', 'Pacifica', 'Pacifica', 'Andina', 'Andina', 'Andina', 'Andina', 'Pacifica', 'Andina', 'Andina', 'Andina', 'Andina', 'Pacifica', 'Pacifica', 'Andina', 'Caribe', 'Andina', 'Caribe', 'Pacifica', 'Pacifica', 'Andina', 'Andina', 'Pacifica', 'Andina', 'Caribe', 'Andina', 'Orinoquia', 'Pacifica', 'Andina', 'Caribe', 'Caribe', 'Caribe', 'Andina', 'Amazonia', 'Pacifica', 'Caribe', 'Andina', 'Andina', 'Orinoquia', 'Caribe', 'Andina', 'Pacifica', 'Pacifica', 'Andina', 'Andina', 'Pacifica', 'Pacifica', 'Andina', 'Caribe', 'Caribe', 'Caribe', 'Caribe', 'Caribe', 'Caribe', 'Caribe', 'Caribe', 'Pacifica', 'Andina', 'Caribe', 'Caribe', 'Andina', 'Andina', 'Caribe', 'Andina', 'Caribe', 'Pacifica', 'Caribe', 'Andina', 'Andina', 'Caribe', 'Caribe', 'Caribe', 'Amazonia', 'Pacifica', 'Andina', 'Andina', 'Caribe', 'Caribe', 'Caribe', 'Pacifica', 'Caribe', 'Andina', 'Caribe', 'Caribe', 'Caribe', 'Caribe', 'Caribe', 'Pacifica', 'Pacifica', 'Caribe', 'Caribe', 'Caribe', 'Andina', 'Caribe', 'Amazonia', 'Caribe', 'Andina', 'Pacifica', 'Caribe', 'Andina', 'Pacifica', 'Caribe', 'Andina', 'Pacifica', 'Amazonia', 'Caribe', 'Andina', 'Caribe', 'Andina', 'Andina', 'Caribe', 'Caribe', 'Andina', 'Andina', 'Andina', 'Pacifica'], 'id': [1, 2, 3, 4, 5, 6, 7, 8, 9, 10, 11, 12, 13, 14, 15, 16, 17, 18, 19, 20, 21, 22, 23, 24, 25, 26, 27, 28, 29, 30, 31, 32, 33, 34, 35, 36, 37, 38, 39, 40, 41, 42, 43, 44, 45, 46, 47, 48, 49, 50, 51, 52, 53, 54, 55, 56, 57, 58, 59, 60, 61, 62, 63, 64, 65, 66, 67, 68, 69, 70, 71, 72, 73, 74, 75, 76, 77, 78, 79, 80, 81, 82, 83, 84, 85, 86, 87, 88, 89, 90, 91, 92, 93, 94, 95, 96, 97, 98, 99, 100, 101, 102, 103, 104, 105, 106, 107, 108, 109, 110, 111, 112, 113, 114, 115, 116, 117, 118, 119, 120, 121, 122, 123, 124, 125, 126, 127, 128, 129, 130, 131, 132, 133, 134, 135, 136, 137, 138, 139, 140, 141, 142, 143, 144, 145, 146, 147, 148, 149, 150, 151, 152, 153, 154, 155, 156, 157, 158, 159, 160, 161, 162, 163, 164, 165, 166, 167, 168, 169, 170, 171, 172, 173, 174, 175, 176, 177, 178, 179, 180, 181, 182, 183, 184, 185, 186, 187, 188, 189, 190, 191, 192, 193, 194, 195, 196, 197, 198, 199, 200, 201, 202, 203, 204, 205, 206, 207, 208, 209, 210, 211, 212, 213, 214, 215, 216, 217, 218, 219, 220, 221, 222, 223, 224, 225, 226, 227, 228, 229, 230, 231, 232, 233, 234, 235, 236, 237, 238, 239, 240, 241, 242, 243, 244, 245, 246, 247, 248, 249, 250, 251, 252, 253, 254, 255, 256, 257, 258, 259, 260, 261, 262, 263, 264, 265, 266, 267, 268, 269, 270, 271, 272, 273, 274, 275, 276, 277, 278, 279, 280, 281, 282, 283, 284, 285, 286, 287, 288, 289, 290, 291, 292, 293, 294, 295, 296, 297, 298, 299, 300, 301, 302, 303, 304, 305, 306, 307, 308, 309, 310, 311, 312, 313, 314, 315, 316, 317, 318, 319, 320, 321, 322, 323, 324, 325, 326, 327, 328, 329, 330, 331, 332, 333, 334, 335, 336, 337, 338, 339, 340, 341, 342, 343, 344, 345, 346, 347, 348, 349, 350, 351, 352, 353, 354, 355, 356, 357, 358, 359, 360, 361, 362, 363, 364, 365, 366, 367, 368, 369, 370, 371, 372, 373, 374, 375, 376, 377, 378, 379, 380, 381, 382, 383, 384, 385, 386, 387, 388, 389, 390, 391, 392, 393, 394, 395, 396, 397, 398, 399, 400, 401, 402, 403, 404, 405, 406, 407, 408, 409, 410, 411, 412, 413, 414, 415, 416, 417, 418, 419, 420, 421, 422, 423, 424, 425, 426, 427, 428, 429, 430, 431, 432, 433, 434, 435, 436, 437, 438, 439, 440, 441, 442, 443, 444, 445, 446, 447, 448, 449, 450, 451, 452, 453, 454, 455, 456, 457, 458, 459, 460, 461, 462, 463, 464, 465, 466, 467, 468, 469, 470, 471, 472, 473, 474, 475, 476, 477, 478, 479, 480, 481, 482, 483, 484, 485, 486, 487, 488, 489, 490, 491, 492, 493, 494, 495, 496, 497, 498, 499, 500]}\n"
     ]
    }
   ],
   "source": [
    "print(datos)"
   ]
  },
  {
   "cell_type": "code",
   "execution_count": null,
   "metadata": {},
   "outputs": [],
   "source": []
  },
  {
   "cell_type": "markdown",
   "metadata": {},
   "source": [
    "**Misión 2**\n",
    "\n",
    "Reportar las principales características en los datos.\n",
    "* *Versión base*: utilizar métricas básicas como conteos o promedios por categorías en los datos.\n",
    "* *Milla extra*: utilizar visualizaciones simples como diagramas de barras, de pastel u otros."
   ]
  },
  {
   "cell_type": "code",
   "execution_count": 15,
   "metadata": {},
   "outputs": [
    {
     "name": "stdout",
     "output_type": "stream",
     "text": [
      "Mediana edad:  49.0\n",
      "Mediana estrato:  2.0\n",
      "Mediana promedio:  2.7\n",
      "Mediana edad:  49.0\n",
      "Mediana estrato:  2.0\n",
      "Mediana promedio:  2.7\n",
      "['otro', 'no', 'masculino', 'femenino', 'binario']\n"
     ]
    },
    {
     "ename": "ValueError",
     "evalue": "could not convert string to float: 'masculino'",
     "output_type": "error",
     "traceback": [
      "\u001b[1;31m---------------------------------------------------------------------------\u001b[0m",
      "\u001b[1;31mValueError\u001b[0m                                Traceback (most recent call last)",
      "\u001b[1;32m~\\AppData\\Local\\Temp/ipykernel_22624/3008400997.py\u001b[0m in \u001b[0;36m<module>\u001b[1;34m\u001b[0m\n\u001b[0;32m     63\u001b[0m \u001b[1;33m\u001b[0m\u001b[0m\n\u001b[0;32m     64\u001b[0m \u001b[1;33m\u001b[0m\u001b[0m\n\u001b[1;32m---> 65\u001b[1;33m \u001b[0mgraficar\u001b[0m\u001b[1;33m(\u001b[0m\u001b[0mdatos\u001b[0m\u001b[1;33m[\u001b[0m\u001b[1;34m\"genero\"\u001b[0m\u001b[1;33m]\u001b[0m\u001b[1;33m)\u001b[0m\u001b[1;33m\u001b[0m\u001b[1;33m\u001b[0m\u001b[0m\n\u001b[0m",
      "\u001b[1;32m~\\AppData\\Local\\Temp/ipykernel_22624/3008400997.py\u001b[0m in \u001b[0;36mgraficar\u001b[1;34m(poblacion)\u001b[0m\n\u001b[0;32m     55\u001b[0m \u001b[1;33m\u001b[0m\u001b[0m\n\u001b[0;32m     56\u001b[0m \u001b[1;33m\u001b[0m\u001b[0m\n\u001b[1;32m---> 57\u001b[1;33m     \u001b[0maxs\u001b[0m\u001b[1;33m[\u001b[0m\u001b[1;36m1\u001b[0m\u001b[1;33m]\u001b[0m\u001b[1;33m.\u001b[0m\u001b[0mpie\u001b[0m\u001b[1;33m(\u001b[0m\u001b[0mpoblacion\u001b[0m\u001b[1;33m,\u001b[0m \u001b[0mlabels\u001b[0m\u001b[1;33m=\u001b[0m\u001b[0mlabels\u001b[0m\u001b[1;33m)\u001b[0m\u001b[1;33m\u001b[0m\u001b[1;33m\u001b[0m\u001b[0m\n\u001b[0m\u001b[0;32m     58\u001b[0m \u001b[1;33m\u001b[0m\u001b[0m\n\u001b[0;32m     59\u001b[0m \u001b[1;33m\u001b[0m\u001b[0m\n",
      "\u001b[1;32mc:\\users\\maflecha\\documents\\mis pruebas\\jupyter\\jupyter\\lib\\site-packages\\matplotlib\\__init__.py\u001b[0m in \u001b[0;36minner\u001b[1;34m(ax, data, *args, **kwargs)\u001b[0m\n\u001b[0;32m   1359\u001b[0m     \u001b[1;32mdef\u001b[0m \u001b[0minner\u001b[0m\u001b[1;33m(\u001b[0m\u001b[0max\u001b[0m\u001b[1;33m,\u001b[0m \u001b[1;33m*\u001b[0m\u001b[0margs\u001b[0m\u001b[1;33m,\u001b[0m \u001b[0mdata\u001b[0m\u001b[1;33m=\u001b[0m\u001b[1;32mNone\u001b[0m\u001b[1;33m,\u001b[0m \u001b[1;33m**\u001b[0m\u001b[0mkwargs\u001b[0m\u001b[1;33m)\u001b[0m\u001b[1;33m:\u001b[0m\u001b[1;33m\u001b[0m\u001b[1;33m\u001b[0m\u001b[0m\n\u001b[0;32m   1360\u001b[0m         \u001b[1;32mif\u001b[0m \u001b[0mdata\u001b[0m \u001b[1;32mis\u001b[0m \u001b[1;32mNone\u001b[0m\u001b[1;33m:\u001b[0m\u001b[1;33m\u001b[0m\u001b[1;33m\u001b[0m\u001b[0m\n\u001b[1;32m-> 1361\u001b[1;33m             \u001b[1;32mreturn\u001b[0m \u001b[0mfunc\u001b[0m\u001b[1;33m(\u001b[0m\u001b[0max\u001b[0m\u001b[1;33m,\u001b[0m \u001b[1;33m*\u001b[0m\u001b[0mmap\u001b[0m\u001b[1;33m(\u001b[0m\u001b[0msanitize_sequence\u001b[0m\u001b[1;33m,\u001b[0m \u001b[0margs\u001b[0m\u001b[1;33m)\u001b[0m\u001b[1;33m,\u001b[0m \u001b[1;33m**\u001b[0m\u001b[0mkwargs\u001b[0m\u001b[1;33m)\u001b[0m\u001b[1;33m\u001b[0m\u001b[1;33m\u001b[0m\u001b[0m\n\u001b[0m\u001b[0;32m   1362\u001b[0m \u001b[1;33m\u001b[0m\u001b[0m\n\u001b[0;32m   1363\u001b[0m         \u001b[0mbound\u001b[0m \u001b[1;33m=\u001b[0m \u001b[0mnew_sig\u001b[0m\u001b[1;33m.\u001b[0m\u001b[0mbind\u001b[0m\u001b[1;33m(\u001b[0m\u001b[0max\u001b[0m\u001b[1;33m,\u001b[0m \u001b[1;33m*\u001b[0m\u001b[0margs\u001b[0m\u001b[1;33m,\u001b[0m \u001b[1;33m**\u001b[0m\u001b[0mkwargs\u001b[0m\u001b[1;33m)\u001b[0m\u001b[1;33m\u001b[0m\u001b[1;33m\u001b[0m\u001b[0m\n",
      "\u001b[1;32mc:\\users\\maflecha\\documents\\mis pruebas\\jupyter\\jupyter\\lib\\site-packages\\matplotlib\\axes\\_axes.py\u001b[0m in \u001b[0;36mpie\u001b[1;34m(self, x, explode, labels, colors, autopct, pctdistance, shadow, labeldistance, startangle, radius, counterclock, wedgeprops, textprops, center, frame, rotatelabels, normalize)\u001b[0m\n\u001b[0;32m   3028\u001b[0m         \u001b[1;31m# The use of float32 is \"historical\", but can't be changed without\u001b[0m\u001b[1;33m\u001b[0m\u001b[1;33m\u001b[0m\u001b[1;33m\u001b[0m\u001b[0m\n\u001b[0;32m   3029\u001b[0m         \u001b[1;31m# regenerating the test baselines.\u001b[0m\u001b[1;33m\u001b[0m\u001b[1;33m\u001b[0m\u001b[1;33m\u001b[0m\u001b[0m\n\u001b[1;32m-> 3030\u001b[1;33m         \u001b[0mx\u001b[0m \u001b[1;33m=\u001b[0m \u001b[0mnp\u001b[0m\u001b[1;33m.\u001b[0m\u001b[0masarray\u001b[0m\u001b[1;33m(\u001b[0m\u001b[0mx\u001b[0m\u001b[1;33m,\u001b[0m \u001b[0mnp\u001b[0m\u001b[1;33m.\u001b[0m\u001b[0mfloat32\u001b[0m\u001b[1;33m)\u001b[0m\u001b[1;33m\u001b[0m\u001b[1;33m\u001b[0m\u001b[0m\n\u001b[0m\u001b[0;32m   3031\u001b[0m         \u001b[1;32mif\u001b[0m \u001b[0mx\u001b[0m\u001b[1;33m.\u001b[0m\u001b[0mndim\u001b[0m \u001b[1;33m>\u001b[0m \u001b[1;36m1\u001b[0m\u001b[1;33m:\u001b[0m\u001b[1;33m\u001b[0m\u001b[1;33m\u001b[0m\u001b[0m\n\u001b[0;32m   3032\u001b[0m             \u001b[1;32mraise\u001b[0m \u001b[0mValueError\u001b[0m\u001b[1;33m(\u001b[0m\u001b[1;34m\"x must be 1D\"\u001b[0m\u001b[1;33m)\u001b[0m\u001b[1;33m\u001b[0m\u001b[1;33m\u001b[0m\u001b[0m\n",
      "\u001b[1;31mValueError\u001b[0m: could not convert string to float: 'masculino'"
     ]
    },
    {
     "data": {
      "image/png": "[encoded data removed]",
      "text/plain": [
       "<Figure size 432x288 with 2 Axes>"
      ]
     },
     "metadata": {
      "needs_background": "light"
     },
     "output_type": "display_data"
    }
   ],
   "source": [
    "# código\n",
    "\n",
    "# importación de paquetes necesarios\n",
    "import matplotlib.pyplot as plt\n",
    "import statistics\n",
    "\n",
    "\n",
    "# función que calcula la mediana de una lista de datos numéricos\n",
    "median_edad=statistics.median(datos[\"edad\"])\n",
    "median_estrato=statistics.median(datos[\"estrato\"])\n",
    "median_promedio=statistics.median(datos[\"promedio\"])\n",
    "\n",
    "print(\"Mediana edad: \",median_edad)\n",
    "print(\"Mediana estrato: \",median_estrato)\n",
    "print(\"Mediana promedio: \",median_promedio)\n",
    "\n",
    "# función que calcula la desviación de una lista de datos numéricos\n",
    "\n",
    "desviacion_edad=statistics.stdev(datos[\"edad\"])\n",
    "desviacion_estrato=statistics.stdev(datos[\"estrato\"])\n",
    "desviacion_promedio=statistics.stdev(datos[\"promedio\"])\n",
    "\n",
    "print(\"Mediana edad: \",median_edad)\n",
    "print(\"Mediana estrato: \",median_estrato)\n",
    "print(\"Mediana promedio: \",median_promedio)\n",
    "\n",
    "\n",
    "'''\n",
    "función que visualiza las características de una población dada\n",
    "(nota que la variable 'poblacion' es local; podemos pasar cualquier población a la función)\n",
    "'''\n",
    "\n",
    "def unique (lista):\n",
    "    unicos=[]\n",
    "    \n",
    "    for i in lista:\n",
    "        if i not in unicos:\n",
    "            unicos.append(i)\n",
    "    unicos.sort(reverse=True)\n",
    "    return unicos\n",
    "\n",
    "\n",
    "def graficar(poblacion):\n",
    "    \n",
    "    #labels= unicos(poblacion)\n",
    "    fig, axs = plt.subplots(2)\n",
    "    \n",
    "    axs[0].hist(poblacion)\n",
    "    #axs[0].gca().set(title='Histograma', ylabel='Frequency')\n",
    "    \n",
    "    \n",
    "    \n",
    "    labels=unique(poblacion)\n",
    "    print(labels)\n",
    "    \n",
    "    \n",
    "    axs[1].pie(poblacion, labels=labels)\n",
    "    \n",
    "    \n",
    "    \n",
    "    \n",
    "    \n",
    "    \n",
    "    \n",
    "graficar(datos[\"genero\"])"
   ]
  },
  {
   "cell_type": "code",
   "execution_count": null,
   "metadata": {},
   "outputs": [],
   "source": []
  },
  {
   "cell_type": "markdown",
   "metadata": {},
   "source": [
    "## 2. Abordaje de la pregunta de negocio\n",
    "\n",
    "El comité encargado de diseñar el programa de becas ha tenido dificultades para llegar a acuerdos. Algunos piensan que el criterio principal de selección debería ser respecto a lo económico y académico, sin importar otras características personales, mientras que otros piensan que considerar estas características es, de hecho, parte del espíritu del programa.\n",
    "\n",
    "* El primer grupo sugiere que se deben tomar en orden ascendente los estratos y elegir, en cada uno de ellos, al 2% de personas con promedio académico superior en esa sub-población, hasta que se agoten las becas disponibles. En caso de quedar becas disponibles al final del proceso, se repite el mismo esquema, considerando que ya no se tienen en cuenta las personas que hayan sido elegidas en rondas anteriores.\n",
    "\n",
    "* El segundo grupo sugiere que los recibidores de becas deben estar igualmente distribuidos entre las diferentes regiones y generos, considerando, por supuesto, que para cada una de esas sub-poblaciones, las personas elegidas sean las de mejores promedios académicos.\n",
    "\n",
    "Dado que las diferencias entre estos grupos obedecen a su entendimiento particular del problema, el presidente del comité propone utilizar los datos disponibles de las encuestas, sugiriendo que se analice qué características tendría la población de elegidos bajo cada uno de los dos criterios expuestos."
   ]
  },
  {
   "cell_type": "markdown",
   "metadata": {},
   "source": [
    "**Misión 3**\n",
    "\n",
    "Defina la pregunta de negocio y la pregunta de *analytics* para esta situación."
   ]
  },
  {
   "cell_type": "code",
   "execution_count": null,
   "metadata": {},
   "outputs": [],
   "source": [
    "# respuesta en texto (solo leeremos los primeros 300 caracteres de la respuesta)\n",
    "\n",
    "pregunta_negocio = 'Encontrar a las personas que serán beneficiarias de las becas, bajo los mejores criterios de elegibilidad en donde se le de prioridad a las personas que más necesitan el apoyo.'\n",
    "\n",
    "pregunta_analytics = 'Teniendo la informacion de cada persona (estrato, edad, promedio, region, genero, estrato, etc ), agrupar a las personas por sub-poblaciones y crear una lista en el orden en que deberian ser elegidos'"
   ]
  },
  {
   "cell_type": "markdown",
   "metadata": {},
   "source": [
    "**Misión 4**\n",
    "\n",
    "Desarrollar un algoritmo que permita conocer la población que sería becada según los criterios propuestos por el *primer grupo* mencionado arriba."
   ]
  },
  {
   "cell_type": "code",
   "execution_count": 2,
   "metadata": {},
   "outputs": [
    {
     "name": "stdout",
     "output_type": "stream",
     "text": [
      "[(376, 5.0, 1.0, 'masculino', 'Pacifica'), (162, 4.9, 1.0, 'masculino', 'Andina'), (363, 4.9, 1.0, 'femenino', 'Pacifica'), (243, 5.0, 2.0, 'femenino', 'Caribe'), (7, 4.9, 2.0, 'femenino', 'Andina'), (207, 4.9, 2.0, 'femenino', 'Andina'), (491, 4.9, 2.0, 'masculino', 'Caribe'), (60, 4.9, 3.0, 'femenino', 'Caribe'), (471, 4.9, 3.0, 'masculino', 'Pacifica'), (109, 4.7, 3.0, 'femenino', 'Pacifica'), (159, 4.6, 3.0, 'masculino', 'Caribe'), (394, 4.8, 4.0, 'masculino', 'Andina'), (259, 4.8, 5.0, 'no binario', 'Andina'), (283, 4.8, 1.0, 'no binario', 'Andina'), (385, 4.7, 1.0, 'masculino', 'Pacifica'), (287, 4.3, 1.0, 'femenino', 'Pacifica'), (422, 4.2, 1.0, 'masculino', 'Orinoquia'), (108, 4.1, 1.0, 'femenino', 'Caribe'), (213, 4.1, 1.0, 'femenino', 'Caribe'), (422, 4.2, 1.0, 'masculino', 'Orinoquia')]\n"
     ]
    }
   ],
   "source": [
    "# código\n",
    "import math\n",
    "\n",
    "numero_becas_1=20\n",
    "\n",
    "def list_estratos(lista):\n",
    "    \n",
    "    lista1=[]\n",
    "    lista2=[]\n",
    "    lista3=[]\n",
    "    lista4=[]\n",
    "    lista5=[]\n",
    "    \n",
    "    for i in range (len(lista)):\n",
    "        \n",
    "        if lista[i]==1:\n",
    "            lista1.append(i)\n",
    "        elif lista[i]==2:\n",
    "            lista2.append(i)\n",
    "        elif lista[i]==3:\n",
    "            lista3.append(i)\n",
    "        elif lista[i]==4:\n",
    "            lista4.append(i)\n",
    "        elif lista[i]==5:\n",
    "            lista5.append(i)\n",
    "    \n",
    "    return lista1, lista2, lista3, lista4, lista5\n",
    "\n",
    "def orden_listas (lista):\n",
    "    \n",
    "    lista_tuplas=[]\n",
    "    \n",
    "    for i in lista:\n",
    "        promedio=datos['promedio'][i]   \n",
    "        estrato= datos['estrato'][i]  \n",
    "        genero= datos['genero'][i] \n",
    "        region= datos['region'][i] \n",
    "        \n",
    "        lista_tuplas.append((i, promedio, estrato, genero, region))\n",
    "        \n",
    "    lista_tuplas.sort(key = lambda x:x[1], reverse=True)\n",
    "    \n",
    "    return lista_tuplas\n",
    "\n",
    "def porcentaje (lista):\n",
    "    \n",
    "    porcentaje=math.ceil((len(lista)*0.02))\n",
    "    return(porcentaje)\n",
    "\n",
    "\n",
    "def orden_candidatos (lista_total, lista1, lista2, lista3, lista4, lista5):\n",
    "    \n",
    "    porc1 = porcentaje(lista1)\n",
    "    porc2 = porcentaje(lista2)\n",
    "    porc3 = porcentaje(lista3)\n",
    "    porc4 = porcentaje(lista4)\n",
    "    porc5 = porcentaje(lista5)\n",
    "    \n",
    "    try:\n",
    "    \n",
    "        for i in range (porc1):\n",
    "            lista_total.append(lista1[i])\n",
    "    except:\n",
    "        pass\n",
    "    \n",
    "    try:\n",
    "        for i in range (porc2):\n",
    "            lista_total.append(lista2[i])\n",
    "    except:\n",
    "        pass\n",
    "    \n",
    "    try:\n",
    "        for i in range (porc3):\n",
    "            lista_total.append(lista3[i])\n",
    "    except:\n",
    "        pass\n",
    "    \n",
    "    try:\n",
    "        for i in range (porc4):\n",
    "            lista_total.append(lista4[i])\n",
    "    except:\n",
    "        pass\n",
    "    \n",
    "    try:\n",
    "        for i in range (porc5):\n",
    "            lista_total.append(lista5[i])\n",
    "    except:\n",
    "        pass\n",
    "        \n",
    "        \n",
    "    \n",
    "    lista1=lista1[porc1:]\n",
    "    lista2=lista1[porc2:]\n",
    "    lista3=lista1[porc3:]\n",
    "    lista4=lista1[porc4:]\n",
    "    lista5=lista1[porc5:]\n",
    "        \n",
    "    tamano=[len(lista1), len(lista2), len(lista3), len(lista4), len(lista5) ]\n",
    "    return lista_total, tamano, lista1, lista2, lista3, lista4,lista5\n",
    "\n",
    "\n",
    " \n",
    "\n",
    "def general_1(numero_becas):\n",
    "    \n",
    "    lista1, lista2, lista3, lista4, lista5=list_estratos(datos['estrato'])\n",
    "    list_tupla1=orden_listas (lista1)\n",
    "    list_tupla2=orden_listas (lista2)\n",
    "    list_tupla3=orden_listas (lista3)\n",
    "    list_tupla4=orden_listas (lista4)\n",
    "    list_tupla5=orden_listas (lista5)\n",
    "    \n",
    "    lista_total=[]\n",
    "    \n",
    "    for i in  range (0,100):\n",
    "        lista_total, tamano, list_tupla1, list_tupla2, list_tupla3, list_tupla4, list_tupla5=orden_candidatos (lista_total, list_tupla1, list_tupla2, list_tupla3, list_tupla4, list_tupla5)\n",
    "    \n",
    "        if(tamano[0]==0 and tamano[1]==0 and  tamano[2]==0 and tamano[3]==0 and tamano[4]==0):\n",
    "            break\n",
    "    \n",
    "    \n",
    "    becados=lista_total[:numero_becas]\n",
    "    \n",
    "    \n",
    "    return becados\n",
    "\n",
    "posibles_becados_1=general_1(numero_becas_1)\n",
    "print(posibles_becados_1)"
   ]
  },
  {
   "cell_type": "markdown",
   "metadata": {},
   "source": [
    "**Misión 5**\n",
    "\n",
    "Desarrollar un algoritmo que permita conocer la población que sería becada según los criterios propuestos por el *segundo grupo* mencionado arriba."
   ]
  },
  {
   "cell_type": "code",
   "execution_count": 32,
   "metadata": {},
   "outputs": [
    {
     "name": "stdout",
     "output_type": "stream",
     "text": [
      "['Andina', 'Pacifica', 'Orinoquia', 'Caribe', 'Amazonia']\n",
      "['masculino', 'femenino', 'otro', 'no binario']\n",
      "[41, 37, 1, 7, 26, 37, 0, 7, 10, 10, 1, 0, 42, 64, 1, 8, 4, 3, 1, 1]\n",
      "500 500\n"
     ]
    },
    {
     "data": {
      "text/plain": [
       "'finalizo'"
      ]
     },
     "execution_count": 32,
     "metadata": {},
     "output_type": "execute_result"
    }
   ],
   "source": [
    "# código\n",
    "\n",
    "numero_becas_2=300\n",
    "\n",
    "def unique (lista):\n",
    "    lista_unica=[]\n",
    "    \n",
    "    for i in lista:\n",
    "        if i not in lista_unica:\n",
    "            lista_unica.append(i)\n",
    "    return lista_unica\n",
    "    \n",
    "\n",
    "def list_regiones_generos(regiones, generos):\n",
    "    \n",
    "    region_unica=unique(regiones)\n",
    "    genero_unica=unique(generos)\n",
    "    \n",
    "    dict_datos={}\n",
    "    \n",
    "    and_masc=[]\n",
    "    and_fem=[]\n",
    "    and_otro=[]\n",
    "    and_nobin=[]\n",
    "    pac_masc=[]\n",
    "    pac_fem=[]\n",
    "    pac_otro=[]\n",
    "    pac_nobin=[]\n",
    "    ori_masc=[]\n",
    "    ori_fem=[]\n",
    "    ori_otro=[]\n",
    "    ori_nobin=[]\n",
    "    cari_masc=[]\n",
    "    cari_fem=[]\n",
    "    cari_otro=[]\n",
    "    cari_nobin=[]\n",
    "    amaz_masc=[]\n",
    "    amaz_fem=[]\n",
    "    amaz_otro=[]\n",
    "    amaz_nobin=[]\n",
    "    \n",
    "    \n",
    "    for i in range (len(regiones)):\n",
    "        \n",
    "            \n",
    "        if (regiones[i]=='Andina' and generos[i]== 'masculino'):\n",
    "            and_masc.append((i, datos[\"promedio\"][i], datos[\"estrato\"][i], regiones[i], generos[i] ))\n",
    "        elif (regiones[i]=='Andina' and generos[i]== 'femenino'):\n",
    "            and_fem.append((i, datos[\"promedio\"][i], datos[\"estrato\"][i], regiones[i], generos[i] ))\n",
    "        elif (regiones[i]=='Andina' and generos[i]== 'otro'):\n",
    "            and_otro.append((i, datos[\"promedio\"][i], datos[\"estrato\"][i], regiones[i], generos[i] ))\n",
    "        elif (regiones[i]=='Andina' and generos[i]== 'no binario'):\n",
    "            and_nobin.append((i, datos[\"promedio\"][i], datos[\"estrato\"][i], regiones[i], generos[i] ))\n",
    "        elif (regiones[i]=='Pacifica' and generos[i]== 'masculino'):\n",
    "            pac_masc.append((i, datos[\"promedio\"][i], datos[\"estrato\"][i], regiones[i], generos[i] ))\n",
    "        elif (regiones[i]=='Pacifica' and generos[i]== 'femenino'):\n",
    "            pac_fem.append((i, datos[\"promedio\"][i], datos[\"estrato\"][i], regiones[i], generos[i] ))\n",
    "        elif (regiones[i]=='Pacifica' and generos[i]== 'otro'):\n",
    "            pac_otro.append((i, datos[\"promedio\"][i], datos[\"estrato\"][i], regiones[i], generos[i] ))\n",
    "        elif (regiones[i]=='Pacifica' and generos[i]== 'no binario'):\n",
    "            pac_nobin.append((i, datos[\"promedio\"][i], datos[\"estrato\"][i], regiones[i], generos[i] ))\n",
    "        elif (regiones[i]=='Orinoquia' and generos[i]== 'masculino'):\n",
    "            ori_masc.append((i, datos[\"promedio\"][i], datos[\"estrato\"][i], regiones[i], generos[i] ))\n",
    "        elif (regiones[i]=='Orinoquia' and generos[i]== 'femenino'):\n",
    "            ori_fem.append((i, datos[\"promedio\"][i], datos[\"estrato\"][i], regiones[i], generos[i] ))\n",
    "        elif (regiones[i]=='Orinoquia' and generos[i]== 'otro'):\n",
    "            ori_otro.append((i, datos[\"promedio\"][i], datos[\"estrato\"][i], regiones[i], generos[i] ))\n",
    "        elif (regiones[i]=='Orinoquia' and generos[i]== 'no binario'):\n",
    "            ori_nobin.append((i, datos[\"promedio\"][i], datos[\"estrato\"][i], regiones[i], generos[i] ))\n",
    "        elif (regiones[i]=='Caribe' and generos[i]== 'masculino'):\n",
    "            cari_masc.append((i, datos[\"promedio\"][i], datos[\"estrato\"][i], regiones[i], generos[i] ))\n",
    "        elif (regiones[i]=='Caribe' and generos[i]== 'femenino'):\n",
    "            cari_fem.append((i, datos[\"promedio\"][i], datos[\"estrato\"][i], regiones[i], generos[i] ))\n",
    "        elif (regiones[i]=='Caribe' and generos[i]== 'otro'):\n",
    "            cari_otro.append((i, datos[\"promedio\"][i], datos[\"estrato\"][i], regiones[i], generos[i] ))\n",
    "        elif (regiones[i]=='Caribe' and generos[i]== 'no binario'):\n",
    "            cari_nobin.append((i, datos[\"promedio\"][i], datos[\"estrato\"][i], regiones[i], generos[i] ))\n",
    "        elif (regiones[i]=='Amazonia' and generos[i]== 'masculino'):\n",
    "            amaz_masc.append((i, datos[\"promedio\"][i], datos[\"estrato\"][i], regiones[i], generos[i] ))\n",
    "        elif (regiones[i]=='Amazonia' and generos[i]== 'femenino'):\n",
    "            amaz_fem.append((i, datos[\"promedio\"][i], datos[\"estrato\"][i], regiones[i], generos[i] ))\n",
    "        elif (regiones[i]=='Amazonia' and generos[i]== 'otro'):\n",
    "            amaz_otro.append((i, datos[\"promedio\"][i], datos[\"estrato\"][i], regiones[i], generos[i] ))\n",
    "        elif (regiones[i]=='Amazonia' and generos[i]== 'no binario'):\n",
    "            amaz_nobin.append((i, datos[\"promedio\"][i], datos[\"estrato\"][i], regiones[i], generos[i] ))\n",
    "        \n",
    "    dict_div={}\n",
    "    dict_div[\"and_masc\"]=and_masc\n",
    "    dict_div[\"and_fem\"]=and_fem\n",
    "    dict_div[\"and_otro\"]=and_otro\n",
    "    dict_div[\"and_nobin\"]=and_nobin\n",
    "    dict_div[\"pac_masc\"]=pac_masc\n",
    "    dict_div[\"pac_fem\"]=pac_fem\n",
    "    dict_div[\"pac_otro\"]=pac_otro\n",
    "    dict_div[\"pac_nobin\"]=pac_nobin\n",
    "    dict_div[\"ori_masc\"]=ori_masc\n",
    "    dict_div[\"ori_fem\"]=ori_fem\n",
    "    dict_div[\"ori_otro\"]=ori_otro\n",
    "    dict_div[\"ori_nobin\"]=ori_nobin\n",
    "    dict_div[\"cari_masc\"]=cari_masc\n",
    "    dict_div[\"cari_fem\"]=cari_fem\n",
    "    dict_div[\"cari_otro\"]=cari_otro\n",
    "    dict_div[\"cari_nobin\"]=cari_nobin\n",
    "    dict_div[\"amaz_masc\"]=amaz_masc\n",
    "    dict_div[\"amaz_fem\"]=amaz_fem\n",
    "    dict_div[\"amaz_otro\"]=amaz_otro\n",
    "    dict_div[\"amaz_nobin\"]=amaz_nobin\n",
    "\n",
    "    print(region_unica)\n",
    "    print(genero_unica)\n",
    "    return dict_div\n",
    "\n",
    "def ordenar_promedio (diccionario):\n",
    "    \n",
    "    for i in diccionario:\n",
    "        diccionario[i].sort(key = lambda x:x[1], reverse=True)\n",
    "    \n",
    "    return diccionario\n",
    "\n",
    "def porcentaje_2 (diccionario, num_becas):\n",
    "    porc=[]\n",
    "    \n",
    "    \n",
    "    \n",
    "    for i in diccionario:\n",
    "        \n",
    "        porcentaje_tot= (len(diccionario[i]))/500\n",
    "        porcentaje_mat=round(porcentaje_tot*num_becas)\n",
    "        porc.append(porcentaje_mat)\n",
    "    return porc\n",
    "\n",
    "def lista_completa(diciconario, num_becas):\n",
    "    \n",
    "    grupos=round(num_becas/20)\n",
    "    \n",
    "    lista_total=[]\n",
    "    \n",
    "    for i in diccionario:\n",
    "        \n",
    "    \n",
    "\n",
    "def general_2(numero_becas_2):\n",
    "    \n",
    "    dict_div=list_regiones_generos(datos[\"region\"], datos[\"genero\"])\n",
    "    lista_completa(diciconario, num_becas)\n",
    "    dict_orden=ordenar_promedio (dict_div)\n",
    "    \n",
    "    \n",
    "    \n",
    "    \n",
    "    \n",
    "    \n",
    "    #print(dict_div)\n",
    "    print(dat_porcentajes)\n",
    "    print(len(datos[\"region\"]), len(datos[\"genero\"]))\n",
    "    \n",
    "    return \"finalizo\"\n",
    "\n",
    "general_2(numero_becas_2)\n"
   ]
  },
  {
   "cell_type": "code",
   "execution_count": 15,
   "metadata": {},
   "outputs": [
    {
     "data": {
      "text/plain": [
       "500"
      ]
     },
     "execution_count": 15,
     "metadata": {},
     "output_type": "execute_result"
    }
   ],
   "source": [
    "len(datos[\"genero\"])"
   ]
  },
  {
   "cell_type": "markdown",
   "metadata": {},
   "source": [
    "**Misión 6**\n",
    "\n",
    "Desarrollar un algoritmo, a partir de lo anterior, cuyo resultado permita al comité comparar fácilmente las características de las dos poblaciones hipotéticas que recibirían becas.\n",
    "\n",
    "*Ayuda*: considera utilizar tus implementaciones de la *Misión 2* para facilitar esta misión."
   ]
  },
  {
   "cell_type": "code",
   "execution_count": null,
   "metadata": {},
   "outputs": [],
   "source": [
    "# código\n"
   ]
  },
  {
   "cell_type": "markdown",
   "metadata": {},
   "source": [
    "## 3. Desarrollo de una solución analítica\n",
    "\n",
    "Reconociendo la complejidad de este problema (que no permite reducirlo a una dicotomía) y viendo el potencial del análisis de datos para enriquecer la discusión y los insumos para tomar decisiones, el comité ha solicitado una herramienta analítica que les permita . Sus requerimientos son:\n",
    "\n",
    "* La herramienta debe permitir ingresar una política de selección de becados.\n",
    "    * Se debe poder elegir el rango de edad de los aspirantes.\n",
    "    * Se debe poder elegir qué proporción de las becas se asigna a cada género, a cada estrato, o a cada región (pero sólo debe elegirse uno de estos criterios).\n",
    "* La herramienta debe generar un resultado que permita al comité analizar las características de la población potencialmente elegida si se usara la política ingresada.\n",
    "\n",
    "**Misión 7**\n",
    "\n",
    "Desarrollar, a partir de lo construido hasta el momento, un algoritmo que permita cumplir con los requerimientos del comité."
   ]
  },
  {
   "cell_type": "code",
   "execution_count": null,
   "metadata": {},
   "outputs": [],
   "source": [
    "# código\n",
    "\n",
    "    \n",
    "    "
   ]
  },
  {
   "cell_type": "markdown",
   "metadata": {},
   "source": [
    "**Misión 8**\n",
    "\n",
    "Proponer, con base en tu propio uso de la herramienta, una política de ingreso que consideres apropiada dado el contexto proporcionado. Si lo crees adecuado, explica, máximo 500 caracteres, las virtudes de tu propuesta (esto puede estar soportado en los datos, o no)."
   ]
  },
  {
   "cell_type": "code",
   "execution_count": null,
   "metadata": {},
   "outputs": [],
   "source": [
    "# respuesta en texto (solo leeremos los primeros 300 caracteres de la respuesta)\n",
    "\n",
    "respuesta = ''"
   ]
  },
  {
   "cell_type": "markdown",
   "metadata": {},
   "source": [
    "**Misión 9**\n",
    "\n",
    "Ejecutar el algoritmo desarrollado en la *Misión 7* sobre la política que sugieres proponer al comité. Explicar claramente tus conlusiones con el soporte de los resultados de la herramienta."
   ]
  },
  {
   "cell_type": "code",
   "execution_count": null,
   "metadata": {},
   "outputs": [],
   "source": [
    "# código\n",
    "\n",
    "conclusion = ''"
   ]
  },
  {
   "cell_type": "markdown",
   "metadata": {},
   "source": [
    "## Referencias\n",
    "* Discriminación Positiva<br> \n",
    "https://es.wikipedia.org/wiki/Discriminaci%C3%B3n_positiva\n",
    "* Análisis de formulación del programa “Ser Pilo Paga”<br>\n",
    "https://repository.urosario.edu.co/handle/10336/12526\n",
    "* La acción afirmativa en la Universidad de los Andes: El caso del programa \"Oportunidades para talentos nacionales\"<br> http://www.scielo.org.co/scielo.php?script=sci_arttext&pid=S0123-885X2004000300005\n",
    "* Acción afirmativa y equidad: un análisis desde la propuesta de Thomas Nagel<br>\n",
    "http://www.scielo.org.mx/scielo.php?script=sci_arttext&pid=S2007-24062016000200049"
   ]
  },
  {
   "cell_type": "markdown",
   "metadata": {},
   "source": [
    "## Créditos"
   ]
  },
  {
   "cell_type": "markdown",
   "metadata": {},
   "source": [
    "Camilo Gómez - 11/06/21<br>\n",
    "*Revisado*: 25/08/21"
   ]
  },
  {
   "cell_type": "code",
   "execution_count": null,
   "metadata": {},
   "outputs": [],
   "source": []
  }
 ],
 "metadata": {
  "kernelspec": {
   "display_name": "Python 3 (ipykernel)",
   "language": "python",
   "name": "python3"
  },
  "language_info": {
   "codemirror_mode": {
    "name": "ipython",
    "version": 3
   },
   "file_extension": ".py",
   "mimetype": "text/x-python",
   "name": "python",
   "nbconvert_exporter": "python",
   "pygments_lexer": "ipython3",
   "version": "3.7.8"
  }
 },
 "nbformat": 4,
 "nbformat_minor": 1
}
